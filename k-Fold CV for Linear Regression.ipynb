{
 "cells": [
  {
   "cell_type": "markdown",
   "id": "4d71b90b",
   "metadata": {},
   "source": [
    "### Importing Libraries"
   ]
  },
  {
   "cell_type": "code",
   "execution_count": 2,
   "id": "e12acea0",
   "metadata": {},
   "outputs": [],
   "source": [
    "import numpy as np\n",
    "import pandas as pd\n",
    "from sklearn.linear_model import LinearRegression\n",
    "import warnings\n",
    "import math"
   ]
  },
  {
   "cell_type": "markdown",
   "id": "2f192b74",
   "metadata": {},
   "source": [
    "### Importing Dataset"
   ]
  },
  {
   "cell_type": "code",
   "execution_count": 3,
   "id": "b59ac14a",
   "metadata": {},
   "outputs": [],
   "source": [
    "cars = pd.read_csv(r'C:\\Users\\hp\\Desktop\\Praxis\\1st Trimester\\Introduction to Machine Learning\\cars.csv')"
   ]
  },
  {
   "cell_type": "code",
   "execution_count": 4,
   "id": "96353b3e",
   "metadata": {},
   "outputs": [],
   "source": [
    "warnings.simplefilter('ignore')"
   ]
  },
  {
   "cell_type": "code",
   "execution_count": 5,
   "id": "305601ec",
   "metadata": {},
   "outputs": [
    {
     "data": {
      "text/html": [
       "<div>\n",
       "<style scoped>\n",
       "    .dataframe tbody tr th:only-of-type {\n",
       "        vertical-align: middle;\n",
       "    }\n",
       "\n",
       "    .dataframe tbody tr th {\n",
       "        vertical-align: top;\n",
       "    }\n",
       "\n",
       "    .dataframe thead th {\n",
       "        text-align: right;\n",
       "    }\n",
       "</style>\n",
       "<table border=\"1\" class=\"dataframe\">\n",
       "  <thead>\n",
       "    <tr style=\"text-align: right;\">\n",
       "      <th></th>\n",
       "      <th>Car</th>\n",
       "      <th>MPG</th>\n",
       "      <th>Cylinders</th>\n",
       "      <th>Displacement</th>\n",
       "      <th>Horsepower</th>\n",
       "      <th>Weight</th>\n",
       "      <th>Acceleration</th>\n",
       "      <th>Model</th>\n",
       "      <th>Origin</th>\n",
       "    </tr>\n",
       "  </thead>\n",
       "  <tbody>\n",
       "    <tr>\n",
       "      <th>0</th>\n",
       "      <td>Chevrolet Chevelle Malibu</td>\n",
       "      <td>18.0</td>\n",
       "      <td>8</td>\n",
       "      <td>307.0</td>\n",
       "      <td>130</td>\n",
       "      <td>3504</td>\n",
       "      <td>12.0</td>\n",
       "      <td>70</td>\n",
       "      <td>US</td>\n",
       "    </tr>\n",
       "    <tr>\n",
       "      <th>1</th>\n",
       "      <td>Buick Skylark 320</td>\n",
       "      <td>15.0</td>\n",
       "      <td>8</td>\n",
       "      <td>350.0</td>\n",
       "      <td>165</td>\n",
       "      <td>3693</td>\n",
       "      <td>11.5</td>\n",
       "      <td>70</td>\n",
       "      <td>US</td>\n",
       "    </tr>\n",
       "    <tr>\n",
       "      <th>2</th>\n",
       "      <td>Plymouth Satellite</td>\n",
       "      <td>18.0</td>\n",
       "      <td>8</td>\n",
       "      <td>318.0</td>\n",
       "      <td>150</td>\n",
       "      <td>3436</td>\n",
       "      <td>11.0</td>\n",
       "      <td>70</td>\n",
       "      <td>US</td>\n",
       "    </tr>\n",
       "    <tr>\n",
       "      <th>3</th>\n",
       "      <td>AMC Rebel SST</td>\n",
       "      <td>16.0</td>\n",
       "      <td>8</td>\n",
       "      <td>304.0</td>\n",
       "      <td>150</td>\n",
       "      <td>3433</td>\n",
       "      <td>12.0</td>\n",
       "      <td>70</td>\n",
       "      <td>US</td>\n",
       "    </tr>\n",
       "    <tr>\n",
       "      <th>4</th>\n",
       "      <td>Ford Torino</td>\n",
       "      <td>17.0</td>\n",
       "      <td>8</td>\n",
       "      <td>302.0</td>\n",
       "      <td>140</td>\n",
       "      <td>3449</td>\n",
       "      <td>10.5</td>\n",
       "      <td>70</td>\n",
       "      <td>US</td>\n",
       "    </tr>\n",
       "  </tbody>\n",
       "</table>\n",
       "</div>"
      ],
      "text/plain": [
       "                         Car   MPG  Cylinders  Displacement  Horsepower  \\\n",
       "0  Chevrolet Chevelle Malibu  18.0          8         307.0         130   \n",
       "1          Buick Skylark 320  15.0          8         350.0         165   \n",
       "2         Plymouth Satellite  18.0          8         318.0         150   \n",
       "3              AMC Rebel SST  16.0          8         304.0         150   \n",
       "4                Ford Torino  17.0          8         302.0         140   \n",
       "\n",
       "   Weight  Acceleration  Model Origin  \n",
       "0    3504          12.0     70     US  \n",
       "1    3693          11.5     70     US  \n",
       "2    3436          11.0     70     US  \n",
       "3    3433          12.0     70     US  \n",
       "4    3449          10.5     70     US  "
      ]
     },
     "execution_count": 5,
     "metadata": {},
     "output_type": "execute_result"
    }
   ],
   "source": [
    "cars.head()"
   ]
  },
  {
   "cell_type": "code",
   "execution_count": 6,
   "id": "9c8647b0",
   "metadata": {},
   "outputs": [],
   "source": [
    "cars = pd.read_csv(r'C:\\Users\\hp\\Desktop\\Praxis\\1st Trimester\\Introduction to Machine Learning\\cars.csv')\n",
    "cars = cars.sample(len(cars))    ## Randomly arranging the data."
   ]
  },
  {
   "cell_type": "code",
   "execution_count": 7,
   "id": "31b020c2",
   "metadata": {},
   "outputs": [],
   "source": [
    "X_train = cars[['Weight']]   ## Selecting the X_train\n",
    "y_train = cars['MPG']        ## Selecting the y_train."
   ]
  },
  {
   "cell_type": "markdown",
   "id": "6a1f24b9",
   "metadata": {},
   "source": [
    "### Defining a Cross Validation Function"
   ]
  },
  {
   "cell_type": "code",
   "execution_count": 8,
   "id": "647ae952",
   "metadata": {},
   "outputs": [],
   "source": [
    "def cv(X_train, y_train ,k):        ### Taking the i/p as X_train, y_train and k- value.\n",
    "    regressor = LinearRegression()   ## Defining a Linear Regression function.\n",
    "    L = []                           ### Defining 5 empty lists.\n",
    "    A = []\n",
    "    D = []\n",
    "    E = []\n",
    "    F = []\n",
    "    avg = int(len(X_train) / float(k))     ## initialising an integer which is len(X_train)/ float(k)\n",
    "    last = 0.0                             ## Defining the last as a float quantity.\n",
    "    count = 0                              ## Defiining count as 0 to handle the out of bounds error.\n",
    "    while last < len(X_train):             ## While loop to slice the data and store in the \n",
    "        L.append(X_train[int(last):int(last + avg)])        ### Appending to L as X_train\n",
    "        A.append(y_train[int(last):int(last + avg)])         #### Appending to A as y_train\n",
    "        last += avg                                          ### Incrementng the last. \n",
    "     \n",
    "    for i in range(0,k):                  ## For loop to iterate through the o to k.\n",
    "        count = count + 1 \n",
    "        X_test1 = np.array(L[i])          ## Initialising the array\n",
    "        y_test1 = np.array(A[i])          ## Initialising the array.\n",
    "        train = []                        ### Train list.\n",
    "        test = []                        ## test list.\n",
    "        for j in range(0,k):             ### For loop. to iterate through the lists.\n",
    "            if i != j:\n",
    "                train.append(L[j])\n",
    "                test.append(A[j])\n",
    "        \n",
    "        X_train1 =  np.array(train)     ## COnverting the list to Array.\n",
    "        y_train1 = np.array(test)\n",
    "        if count < k:\n",
    "            regressor.fit(X_train1[i], y_train1[i])     ### FItting the model.\n",
    "            C = regressor.predict(X_test1)          ##Predicting the model.\n",
    "        D = np.array(C)    #Converting the predicted files to array.\n",
    "        diff = (D - y_test1) ** 2     ##Calculating MSE.\n",
    "        new_diff = np.sum((diff) / len(y_test1))\n",
    "           \n",
    "        E.append(new_diff)    ###n1V1, n2V2......\n",
    "        F.append(len(y_test1)) ####n1, n2 n3 , n4\n",
    "        \n",
    "    E = np.array(E)      ###COnerting to array.\n",
    "    F = np.array(F)\n",
    "   \n",
    "    print(np.dot(E,F)/(np.sum(F)))###n1v1+n2V2+n3V3..../n1+n2+n3+n4\n",
    "                "
   ]
  },
  {
   "cell_type": "code",
   "execution_count": 9,
   "id": "1cc810ad",
   "metadata": {
    "scrolled": false
   },
   "outputs": [
    {
     "name": "stdout",
     "output_type": "stream",
     "text": [
      "37.54954587832857\n"
     ]
    }
   ],
   "source": [
    "cv(X_train, y_train,11)    ## Testing the function."
   ]
  },
  {
   "cell_type": "code",
   "execution_count": null,
   "id": "deb5ce6a",
   "metadata": {},
   "outputs": [],
   "source": [
    "##Returns the CVScore."
   ]
  },
  {
   "cell_type": "code",
   "execution_count": null,
   "id": "d99ae051",
   "metadata": {},
   "outputs": [],
   "source": []
  },
  {
   "cell_type": "code",
   "execution_count": null,
   "id": "9b666949",
   "metadata": {},
   "outputs": [],
   "source": []
  },
  {
   "cell_type": "code",
   "execution_count": null,
   "id": "a9f020ca",
   "metadata": {},
   "outputs": [],
   "source": []
  },
  {
   "cell_type": "code",
   "execution_count": null,
   "id": "f5f82092",
   "metadata": {},
   "outputs": [],
   "source": []
  },
  {
   "cell_type": "code",
   "execution_count": null,
   "id": "a42fdf64",
   "metadata": {},
   "outputs": [],
   "source": []
  }
 ],
 "metadata": {
  "kernelspec": {
   "display_name": "Python 3",
   "language": "python",
   "name": "python3"
  },
  "language_info": {
   "codemirror_mode": {
    "name": "ipython",
    "version": 3
   },
   "file_extension": ".py",
   "mimetype": "text/x-python",
   "name": "python",
   "nbconvert_exporter": "python",
   "pygments_lexer": "ipython3",
   "version": "3.8.10"
  }
 },
 "nbformat": 4,
 "nbformat_minor": 5
}
